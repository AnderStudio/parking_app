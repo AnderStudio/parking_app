{
 "cells": [
  {
   "cell_type": "code",
   "execution_count": 3,
   "metadata": {},
   "outputs": [
    {
     "name": "stdout",
     "output_type": "stream",
     "text": [
      "Hello world!\n"
     ]
    }
   ],
   "source": [
    "print(\"Hello world!\")"
   ]
  },
  {
   "attachments": {},
   "cell_type": "markdown",
   "metadata": {},
   "source": [
    "# TOP\n",
    "依照以get\"甚麼資料\"來建立多個py檔\n",
    "ex. get_parking_lot_by_park_id() 跟 get_parking_lot_by_user_id()\n",
    "    會寫在同個py檔"
   ]
  },
  {
   "attachments": {},
   "cell_type": "markdown",
   "metadata": {},
   "source": [
    "# BOTTOM\n",
    "依照這六個表建立6個py檔，每個分別只拿對應的表的資料"
   ]
  },
  {
   "attachments": {},
   "cell_type": "markdown",
   "metadata": {},
   "source": [
    "# USER"
   ]
  },
  {
   "cell_type": "code",
   "execution_count": null,
   "metadata": {},
   "outputs": [],
   "source": [
    "# user\n",
    "id: <Int> [Primary Key]\n",
    "name: <VarChar(50)>\n",
    "admin: <Bool>\n",
    "vip: <Bool>"
   ]
  },
  {
   "attachments": {},
   "cell_type": "markdown",
   "metadata": {},
   "source": [
    "# PARKING_SPACES"
   ]
  },
  {
   "cell_type": "code",
   "execution_count": null,
   "metadata": {},
   "outputs": [],
   "source": [
    "id: <Int> [Primary Key]\n",
    "parking_lot: <VarChar(10)>\n",
    "space_num: <VarChar(10)>\n",
    "current_license_num: <VarChar(10)>\n",
    "vip_only: <Bool>\n",
    "is_empty: <Bool>"
   ]
  },
  {
   "attachments": {},
   "cell_type": "markdown",
   "metadata": {},
   "source": [
    "# PARKING_EVENTS"
   ]
  },
  {
   "cell_type": "code",
   "execution_count": null,
   "metadata": {},
   "outputs": [],
   "source": [
    "id: <Int> [Primary Key]\n",
    "parking_space_id: <Int> -> -> PARKING_SPACES.id [Foreign Key]\n",
    "license_num: <VarChar(10)>\n",
    "start_time: <DateTime>\n",
    "end_time: <DateTime>"
   ]
  },
  {
   "attachments": {},
   "cell_type": "markdown",
   "metadata": {},
   "source": [
    "# RESERVATIONS"
   ]
  },
  {
   "cell_type": "code",
   "execution_count": null,
   "metadata": {},
   "outputs": [],
   "source": [
    "id: <Int> [Primary Key]\n",
    "user_id: <Int> -> USERS.id [Foreign Key]\n",
    "park_id: <Int> -> PARK_SPACES.id [Foreign Key]\n",
    "license_num: <VarChar(10)>\n",
    "eff_start_time: <DateTime>\n",
    "eff_end_time: <DateTime>"
   ]
  },
  {
   "attachments": {},
   "cell_type": "markdown",
   "metadata": {},
   "source": [
    "# ENTRY_RECORDS"
   ]
  },
  {
   "cell_type": "code",
   "execution_count": null,
   "metadata": {},
   "outputs": [],
   "source": [
    "id: <Int> [Primary Key]\n",
    "license_num: <VarChar(10)>\n",
    "enter_time: <DateTime>\n",
    "exit_time: <DateTime>"
   ]
  },
  {
   "attachments": {},
   "cell_type": "markdown",
   "metadata": {},
   "source": [
    "# BLACKLISTS"
   ]
  },
  {
   "cell_type": "code",
   "execution_count": null,
   "metadata": {},
   "outputs": [],
   "source": [
    "id: <ObjectId> [Primary Key]\n",
    "license_num: <VarChar(10)>\n",
    "block_start_time: <DateTime>\n",
    "block_end_time: <DateTime>\n",
    "reason: <Int>"
   ]
  }
 ],
 "metadata": {
  "kernelspec": {
   "display_name": "Python 3",
   "language": "python",
   "name": "python3"
  },
  "language_info": {
   "codemirror_mode": {
    "name": "ipython",
    "version": 3
   },
   "file_extension": ".py",
   "mimetype": "text/x-python",
   "name": "python",
   "nbconvert_exporter": "python",
   "pygments_lexer": "ipython3",
   "version": "3.10.10"
  },
  "orig_nbformat": 4,
  "vscode": {
   "interpreter": {
    "hash": "de7f38acb4a63d972927cc5db5bde4ef24b5ad69e9a6ca9af191dfd5c5916cbe"
   }
  }
 },
 "nbformat": 4,
 "nbformat_minor": 2
}
